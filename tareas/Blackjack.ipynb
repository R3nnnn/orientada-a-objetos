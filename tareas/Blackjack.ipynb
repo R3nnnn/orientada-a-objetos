{
 "cells": [
  {
   "cell_type": "markdown",
   "id": "0137270c-970b-4d38-9bb0-9b5286bf31ea",
   "metadata": {},
   "source": [
    "# Representación de las clases del juego Blackjack\n",
    "\n",
    "![Blackjack](https://blog.bodog.com/wp-content/uploads/2021/12/jugar-blackjack.jpg)"
   ]
  },
  {
   "cell_type": "code",
   "execution_count": 1,
   "id": "8fb160ed-e342-413a-9fc6-f2e2f59f3515",
   "metadata": {},
   "outputs": [],
   "source": [
    "class Baraja:\n",
    "    #Atributos\n",
    "    tamaño: int\n",
    "    tipo: str\n",
    "    #Relaciones\n",
    "    cartas: list #Porque son muchas\n",
    "    #Métodos\n",
    "    def mezclar(): pass\n",
    "\n",
    "class Carta:\n",
    "    #Atributos\n",
    "    valor: int\n",
    "    palo: str\n",
    "    esta_oculta: bool\n",
    "    #Relaciones\n",
    "    baraja: Baraja\n",
    "    #Métodos\n",
    "    def enseñar(): pass"
   ]
  },
  {
   "cell_type": "markdown",
   "id": "900735cc-d905-4843-9bbb-c7b84d260af0",
   "metadata": {},
   "source": [
    "# Tarea: \n",
    "## Terminar el diagrama de clases del Blackjack"
   ]
  },
  {
   "cell_type": "code",
   "execution_count": null,
   "id": "2173e9f6-117d-4353-8668-dbe8441e98c9",
   "metadata": {},
   "outputs": [],
   "source": [
    "class Mano:\n",
    "    #Atributos\n",
    "    puntaje: int\n",
    "    tamaño: int\n",
    "    #Relaciones\n",
    "    cartas: list\n",
    "    #Métodos\n",
    "    def mostrar_carta(): pass\n",
    "class Jugador:\n",
    "    #Atributos\n",
    "    nombre: str\n",
    "    detalles: str\n",
    "    turno: int\n",
    "    #Relaciones\n",
    "    fichas: int\n",
    "    #Métodos\n",
    "    def pedir carta(): pass\n",
    "    def pasar(): pass\n",
    "    def mostrar_carta(): pass\n",
    "    def apostar(): pass\n",
    "class Fichas:\n",
    "    #Atributos\n",
    "    valor: int\n",
    "    tamaño: int\n",
    "    color: str\n",
    "class Dealer:\n",
    "    mano: Mano\n",
    "    #Métodos\n",
    "    def pedir_carta(): pass\n",
    "    def pasar(): pass\n",
    "class Juego:\n",
    "    #Atributos\n",
    "    menu: str\n",
    "    cantidad_jugadores: list\n",
    "    apuesta_mínima: int\n",
    "    apuesta_máxima: int\n",
    "    tipo_dealer: str\n",
    "    #Relaciones\n",
    "    baraja: Baraja\n",
    "    dealer: Dealer\n",
    "    jugador: Jugador\n",
    "    #Métodos\n",
    "    def iniciar_juego(): pass\n",
    "    def pausar_juego(): pass\n",
    "    def quitar_juego(): pass"
   ]
  }
 ],
 "metadata": {
  "kernelspec": {
   "display_name": "Python 3 (ipykernel)",
   "language": "python",
   "name": "python3"
  },
  "language_info": {
   "codemirror_mode": {
    "name": "ipython",
    "version": 3
   },
   "file_extension": ".py",
   "mimetype": "text/x-python",
   "name": "python",
   "nbconvert_exporter": "python",
   "pygments_lexer": "ipython3",
   "version": "3.10.2"
  }
 },
 "nbformat": 4,
 "nbformat_minor": 5
}
